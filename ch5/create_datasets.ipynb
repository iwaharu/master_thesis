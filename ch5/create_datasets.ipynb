{
 "cells": [
  {
   "cell_type": "code",
   "execution_count": 5,
   "metadata": {},
   "outputs": [],
   "source": [
    "import os\n",
    "import mnist\n",
    "import numpy as np\n",
    "import cv2\n",
    "from tqdm import tqdm\n",
    "import pandas as pd\n",
    "import matplotlib.pyplot as plt\n",
    "import itertools\n",
    "from matplotlib import cm"
   ]
  },
  {
   "cell_type": "code",
   "execution_count": 8,
   "metadata": {},
   "outputs": [],
   "source": [
    "def load_mcs(is_gss=False):\n",
    "    # <gss> 0:circle, 1:rectangle, 2:triangle\n",
    "    # <mc> 0:B, 1:G, 2:R\n",
    "    # <mcs> 0~2:mc, 3~5:gss\n",
    "    shapes = ['circle', 'rectangle', 'triangle']\n",
    "    images = []\n",
    "    labels = []\n",
    "\n",
    "    for i in tqdm(range(len(shapes))):\n",
    "        s = shapes[i]\n",
    "        path = 'MultiColor-Shapes-Database/shapes/'+s\n",
    "        files = os.listdir(path=path)\n",
    "        files.sort()\n",
    "        for f in tqdm(files, leave=False):\n",
    "            fpath = path +'/'+f\n",
    "            if is_gss:\n",
    "                img = cv2.imread(fpath, cv2.IMREAD_GRAYSCALE)\n",
    "                #img = 255-img\n",
    "                img = cv2.cvtColor(img,cv2.COLOR_GRAY2RGB)\n",
    "            else:\n",
    "                img = cv2.imread(fpath)\n",
    "\n",
    "            arr = np.ravel(img/255.0).astype(np.float32)\n",
    "\n",
    "            if 'blue' in f: j = 0\n",
    "            elif 'green' in f: j = 1\n",
    "            else: j = 2 # red\n",
    "\n",
    "            #index = i * 3 + j\n",
    "\n",
    "            images.append(arr)\n",
    "            if is_gss: labels.append(i)\n",
    "            else: labels.append([j,i+3])\n",
    "            \n",
    "    labels = np.array(labels)\n",
    "    images = np.array(images)\n",
    "    return images, labels"
   ]
  },
  {
   "cell_type": "code",
   "execution_count": 9,
   "metadata": {},
   "outputs": [
    {
     "name": "stderr",
     "output_type": "stream",
     "text": [
      "100%|██████████| 3/3 [00:00<00:00,  4.40it/s]\n"
     ]
    },
    {
     "data": {
      "text/plain": [
       "Text(0.5, 1.0, '2')"
      ]
     },
     "execution_count": 9,
     "metadata": {},
     "output_type": "execute_result"
    },
    {
     "data": {
      "image/png": "[encoded data removed]",
      "text/plain": [
       "<Figure size 640x480 with 1 Axes>"
      ]
     },
     "metadata": {},
     "output_type": "display_data"
    }
   ],
   "source": [
    "images, labels = load_mcs(is_gss=True)\n",
    "idx = np.random.randint(0,4500)\n",
    "plt.imshow(cv2.cvtColor(images[idx].reshape(28,28,3), cv2.COLOR_BGR2RGB))\n",
    "plt.title(str(labels[idx]))\n",
    "#np.savez_compressed('dataset/Grayscale-Shapes-Dataset.npz', image=images, label=labels)"
   ]
  },
  {
   "cell_type": "code",
   "execution_count": 10,
   "metadata": {},
   "outputs": [],
   "source": [
    "def load_mnist():\n",
    "    z = mnist.train_images()\n",
    "    data = []\n",
    "    for i in range(z.shape[0]):\n",
    "        arr = 255-z[i] #bitwise not\n",
    "        #arr = z[i]\n",
    "        arr = cv2.cvtColor(arr,cv2.COLOR_GRAY2RGB)\n",
    "        arr = np.ravel(arr/255.0).astype(np.float32)\n",
    "        data.append(arr)\n",
    "\n",
    "    return np.array(data), mnist.train_labels()"
   ]
  },
  {
   "cell_type": "code",
   "execution_count": 11,
   "metadata": {},
   "outputs": [
    {
     "name": "stdout",
     "output_type": "stream",
     "text": [
      "[1. 1. 1. ... 1. 1. 1.] (60000, 2352)\n"
     ]
    },
    {
     "data": {
      "text/plain": [
       "Text(0.5, 1.0, '9')"
      ]
     },
     "execution_count": 11,
     "metadata": {},
     "output_type": "execute_result"
    },
    {
     "data": {
      "image/png": "[encoded data removed]",
      "text/plain": [
       "<Figure size 640x480 with 1 Axes>"
      ]
     },
     "metadata": {},
     "output_type": "display_data"
    }
   ],
   "source": [
    "images, labels = load_mnist()\n",
    "print(images[0], images.shape)\n",
    "idx = np.random.randint(0,labels.shape[0])\n",
    "plt.imshow(cv2.cvtColor(images[idx].reshape(28,28,3), cv2.COLOR_BGR2RGB))\n",
    "plt.title(str(labels[idx]))"
   ]
  },
  {
   "cell_type": "code",
   "execution_count": 12,
   "metadata": {},
   "outputs": [],
   "source": [
    "np.savez_compressed('dataset/Mnist2352.npz', image=images, label=labels)"
   ]
  },
  {
   "cell_type": "code",
   "execution_count": 86,
   "metadata": {},
   "outputs": [],
   "source": [
    "def colorize(img, j):\n",
    "  #j = np.random.randint(0,3)\n",
    "  #cname = None\n",
    "\n",
    "  if j == 0:\n",
    "    colorized = cm.Blues(img)\n",
    "    #cname = 'Blue'\n",
    "  elif j == 1:\n",
    "    colorized = cm.Greens(img)\n",
    "    #cname = 'Green'\n",
    "  else:\n",
    "    colorized = cm.Reds(img)\n",
    "    #cname = 'Red'\n",
    "  #plt.imshow(colorized)\n",
    "  #plt.title(cname)\n",
    "  #plt.show()\n",
    "  colorized = colorized[:,:,[2,1,0]] #RGB => BGR\n",
    "  colorized = np.ravel(colorized).astype(np.float32)\n",
    "\n",
    "  return colorized #, j, cname"
   ]
  },
  {
   "cell_type": "code",
   "execution_count": 104,
   "metadata": {},
   "outputs": [],
   "source": [
    "def colored_mnist():\n",
    "  # <mcs> 0~2:mc, 3~12:gss\n",
    "  #L_out = list(itertools.chain.from_iterable([['Blue_'+str(x), 'Green_'+str(x), 'Red_'+str(x)] for x in list(range(10))]))\n",
    "  ''' \n",
    "  28x28 COLORED mnist digits\n",
    "  '''  \n",
    "  import mnist\n",
    "  z = mnist.train_images()\n",
    "  index = mnist.train_labels()\n",
    "  data = []\n",
    "  label = []\n",
    "  for i in tqdm(range(z.shape[0])):\n",
    "    data += [colorize(z[i], x) for x in range(3)]\n",
    "    #label += [index[i]*3+x for x in range(3)]\n",
    "    label += [[x,3+index[i]] for x in range(3)]\n",
    "\n",
    "  return np.array(data), np.array(label)"
   ]
  },
  {
   "cell_type": "code",
   "execution_count": 107,
   "metadata": {},
   "outputs": [
    {
     "name": "stderr",
     "output_type": "stream",
     "text": [
      "100%|██████████| 60000/60000 [00:11<00:00, 5304.24it/s]\n"
     ]
    },
    {
     "name": "stdout",
     "output_type": "stream",
     "text": [
      "[1.         0.9843137  0.96862745 ... 1.         0.9843137  0.96862745] 180000\n"
     ]
    }
   ],
   "source": [
    "images, labels = colored_mnist()\n",
    "print(images[0],labels.shape[0])"
   ]
  },
  {
   "cell_type": "code",
   "execution_count": 109,
   "metadata": {},
   "outputs": [
    {
     "data": {
      "text/plain": [
       "Text(0.5, 1.0, '[2 3]')"
      ]
     },
     "execution_count": 109,
     "metadata": {},
     "output_type": "execute_result"
    },
    {
     "data": {
      "image/png": "[encoded data removed]",
      "text/plain": [
       "<Figure size 640x480 with 1 Axes>"
      ]
     },
     "metadata": {},
     "output_type": "display_data"
    }
   ],
   "source": [
    "idx = np.random.randint(0,labels.shape[0])\n",
    "plt.imshow(cv2.cvtColor(images[idx].reshape(28,28,3), cv2.COLOR_BGR2RGB))\n",
    "plt.title(str(labels[idx]))"
   ]
  },
  {
   "cell_type": "code",
   "execution_count": 110,
   "metadata": {},
   "outputs": [],
   "source": [
    "np.savez_compressed('dataset/Colored-Mnist.npz', image=images, label=labels)"
   ]
  },
  {
   "cell_type": "code",
   "execution_count": 54,
   "metadata": {},
   "outputs": [],
   "source": [
    "def permeabilize(img):\n",
    "    if img.shape[2]==3:\n",
    "        img = cv2.cvtColor(img, cv2.COLOR_RGB2RGBA)\n",
    "    img[..., 3] = np.where(np.all(img == 255, axis=-1), 0, 255)\n",
    "    return img"
   ]
  },
  {
   "cell_type": "code",
   "execution_count": 55,
   "metadata": {},
   "outputs": [],
   "source": [
    "def imgmix_nonalpha(back, fore):\n",
    "    orig2 = cv2.cvtColor(fore,cv2.COLOR_GRAY2BGR)\n",
    "    img2gray = fore\n",
    "    _, mask = cv2.threshold(img2gray, 1, 255, cv2.THRESH_BINARY)\n",
    "    mask_inv = cv2.bitwise_not(mask)\n",
    "\n",
    "    img2gray_src = cv2.cvtColor(mask_inv, cv2.COLOR_BGR2RGB)\n",
    "    #plt.imshow(img2gray_src)\n",
    "    #plt.show()\n",
    "\n",
    "    img1_bg = cv2.bitwise_and(back,back,mask = mask_inv)\n",
    "    #plt.imshow(img1_bg)\n",
    "    #plt.show()"
   ]
  },
  {
   "cell_type": "code",
   "execution_count": 5,
   "metadata": {},
   "outputs": [],
   "source": [
    "def transparent(img):\n",
    "    alpha = img\n",
    "    img = cv2.bitwise_not(img)\n",
    "    _, mask = cv2.threshold(img, 0, 255, cv2.THRESH_BINARY)\n",
    "    img = cv2.cvtColor(img, cv2.COLOR_GRAY2BGRA)\n",
    "    img[:,:,3] = alpha\n",
    "    return img.astype(np.uint8)"
   ]
  },
  {
   "cell_type": "code",
   "execution_count": 6,
   "metadata": {},
   "outputs": [],
   "source": [
    "def imgmix_alpha(back, fore):\n",
    "    from PIL import Image\n",
    "    back = cv2.cvtColor(255*back.astype(np.float32), cv2.COLOR_BGR2RGB)\n",
    "    back = Image.fromarray(back.astype(np.uint8)).convert('RGBA')\n",
    "\n",
    "    fore = transparent(fore)\n",
    "    fore = Image.fromarray(cv2.cvtColor(fore, cv2.COLOR_BGRA2RGBA)).convert('RGBA')\n",
    "\n",
    "    blended = Image.alpha_composite(back, fore)\n",
    "    #blended.show()\n",
    "    blended = cv2.cvtColor(np.asarray(blended), cv2.COLOR_RGBA2BGR)\n",
    "    return blended"
   ]
  },
  {
   "cell_type": "code",
   "execution_count": 7,
   "metadata": {},
   "outputs": [],
   "source": [
    "def shape_mnist():\n",
    "    import mnist\n",
    "    z = mnist.train_images()\n",
    "    index = mnist.train_labels()\n",
    "    mcs = np.load('Multicolor-Shapes-Database.npz', allow_pickle=True)\n",
    "    image = []\n",
    "    label = []\n",
    "    \n",
    "    for num in range(10):\n",
    "        index_digit = np.random.choice(np.where(index==num)[0], size=10)\n",
    "        for shape in range(9):\n",
    "            index_shape = np.random.choice(np.where(mcs['label']==shape)[0], size=10)\n",
    "            for i in index_digit:\n",
    "                digit = z[i]\n",
    "                for j in index_shape:\n",
    "                    img = mcs['image'][j,:].reshape((28,28,3))\n",
    "                    blended = imgmix_alpha(img, digit)\n",
    "                    blended = blended.astype(float)/255.0\n",
    "                    image.append(blended.flatten())\n",
    "                    label.append(shape*10+num)\n",
    "    return np.array(image), np.array(label)"
   ]
  },
  {
   "cell_type": "code",
   "execution_count": 8,
   "metadata": {},
   "outputs": [
    {
     "name": "stdout",
     "output_type": "stream",
     "text": [
      "(9000, 2352) (9000,)\n"
     ]
    }
   ],
   "source": [
    "images, labels = shape_mnist()\n",
    "print(images.shape, labels.shape)\n",
    "np.savez_compressed('MCS-Mnist', image=images, label=labels)"
   ]
  },
  {
   "cell_type": "code",
   "execution_count": 3,
   "metadata": {},
   "outputs": [
    {
     "data": {
      "text/plain": [
       "<matplotlib.image.AxesImage at 0x7fc3f8f0fa00>"
      ]
     },
     "execution_count": 3,
     "metadata": {},
     "output_type": "execute_result"
    },
    {
     "data": {
      "image/png": "[encoded data removed]",
      "text/plain": [
       "<Figure size 432x288 with 1 Axes>"
      ]
     },
     "metadata": {
      "needs_background": "light"
     },
     "output_type": "display_data"
    }
   ],
   "source": [
    "arr = np.load('MCS-Mnist.npz')\n",
    "plt.imshow(arr['image'][0].reshape(28,28,3))"
   ]
  }
 ],
 "metadata": {
  "kernelspec": {
   "display_name": "Python 3.8.8 ('research')",
   "language": "python",
   "name": "python3"
  },
  "language_info": {
   "codemirror_mode": {
    "name": "ipython",
    "version": 3
   },
   "file_extension": ".py",
   "mimetype": "text/x-python",
   "name": "python",
   "nbconvert_exporter": "python",
   "pygments_lexer": "ipython3",
   "version": "3.10.11"
  },
  "orig_nbformat": 4,
  "vscode": {
   "interpreter": {
    "hash": "f27e0ac6fbd5a96b43ee63783cf9b0cdb96023335696e0a9e119cb7b6e10d9e4"
   }
  }
 },
 "nbformat": 4,
 "nbformat_minor": 2
}
